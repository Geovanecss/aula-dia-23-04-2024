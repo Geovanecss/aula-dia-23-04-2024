{
 "cells": [
  {
   "cell_type": "code",
   "execution_count": 4,
   "metadata": {},
   "outputs": [
    {
     "name": "stdout",
     "output_type": "stream",
     "text": [
      "['pitomba', 76]\n"
     ]
    }
   ],
   "source": [
    "#DESAFIO\n",
    "\n",
    "minhaLista = [76,92.3,'oi', True, 4,76,'','']\n",
    "minhaLista[6] += 'pitomba'\n",
    "minhaLista[7] = 76\n",
    "print(minhaLista[6:])\n"
   ]
  },
  {
   "cell_type": "code",
   "execution_count": 3,
   "metadata": {},
   "outputs": [
    {
     "name": "stdout",
     "output_type": "stream",
     "text": [
      "[76, 92.3, 'oi', 'Cibele', True, 4, 76]\n"
     ]
    }
   ],
   "source": [
    "minhaLista = [76,92.3,'oi','', True, 4,76]\n",
    "minhaLista[3] += 'Cibele'\n",
    "print(minhaLista)"
   ]
  },
  {
   "cell_type": "code",
   "execution_count": 2,
   "metadata": {},
   "outputs": [
    {
     "name": "stdout",
     "output_type": "stream",
     "text": [
      "[99, 76, 92.3, 'oi', True, 4, 76]\n"
     ]
    }
   ],
   "source": [
    "minhaLista = ['',76,92.3,'oi', True, 4,76]\n",
    "minhaLista[0] = 99\n",
    "print(minhaLista)"
   ]
  },
  {
   "cell_type": "code",
   "execution_count": 109,
   "metadata": {},
   "outputs": [
    {
     "name": "stdout",
     "output_type": "stream",
     "text": [
      "é o 2o\n"
     ]
    }
   ],
   "source": [
    "minhaLista = [76,92.3,'oi', True, 4,76]\n",
    "if minhaLista[0] == 'oi': \n",
    "    print(\"é o 0\")\n",
    "elif minhaLista[1] == 'oi': \n",
    "    print(\"'Oi' é o 1o\")\n",
    "elif minhaLista[2] == 'oi': \n",
    "    print(\"é o 2o\")\n",
    "elif minhaLista[3] == 'oi': \n",
    "    print(\"é o 3o\")\n",
    "elif minhaLista[4] == 'oi': \n",
    "    print(\"é o 4o\")\n",
    "elif minhaLista [5] == 'oi': \n",
    "    print(\"é o 5o\")\n",
    "else:\n",
    "    print(\"Não é nenhum\")\n",
    "    \n"
   ]
  },
  {
   "cell_type": "code",
   "execution_count": 1,
   "metadata": {},
   "outputs": [
    {
     "name": "stdout",
     "output_type": "stream",
     "text": [
      "[76, 92.3, 'oi', 4, 76]\n"
     ]
    }
   ],
   "source": [
    "minhaLista = [76,92.3,'oi', True, 4,76]\n",
    "minhaLista1 = [76,92.3, 'oi']\n",
    "minhaLista2 = [4,76]\n",
    "minhaListaToda = minhaLista1 + minhaLista2 \n",
    "print(minhaListaToda)"
   ]
  }
 ],
 "metadata": {
  "kernelspec": {
   "display_name": "Python 3",
   "language": "python",
   "name": "python3"
  },
  "language_info": {
   "codemirror_mode": {
    "name": "ipython",
    "version": 3
   },
   "file_extension": ".py",
   "mimetype": "text/x-python",
   "name": "python",
   "nbconvert_exporter": "python",
   "pygments_lexer": "ipython3",
   "version": "3.11.9"
  }
 },
 "nbformat": 4,
 "nbformat_minor": 2
}
